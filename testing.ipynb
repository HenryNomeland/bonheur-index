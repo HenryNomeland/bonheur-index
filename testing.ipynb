{
 "cells": [
  {
   "cell_type": "code",
   "execution_count": 1,
   "metadata": {},
   "outputs": [],
   "source": [
    "from scrapers import *"
   ]
  },
  {
   "cell_type": "code",
   "execution_count": 2,
   "metadata": {},
   "outputs": [],
   "source": [
    "ArtForum = ArtForumScraper(\"https://www.artforum.com/issue/2025/february-2025-1234725563/\")"
   ]
  },
  {
   "cell_type": "code",
   "execution_count": 3,
   "metadata": {},
   "outputs": [
    {
     "name": "stdout",
     "output_type": "stream",
     "text": [
      "[{'Title': 'Untitled Review', 'Reviewer': 'Unknown Reviewer', 'Date': 'Unknown Date', 'Content': 'Inaccessible Content', 'Artwork': 'Unknown Artwork', 'Location': 'Unknown Location', 'City': 'Unknown City', 'URL': 'https://www.artforum.com/issue/2025/february-2025-1234725563/'}, {'Title': 'Untitled Review', 'Reviewer': 'Unknown Reviewer', 'Date': 'Unknown Date', 'Content': 'Inaccessible Content', 'Artwork': 'Unknown Artwork', 'Location': 'Unknown Location', 'City': 'Unknown City', 'URL': 'https://www.artforum.com/issue/2025/february-2025-1234725563/'}, {'Title': 'Untitled Review', 'Reviewer': 'Unknown Reviewer', 'Date': 'Unknown Date', 'Content': 'Inaccessible Content', 'Artwork': 'Unknown Artwork', 'Location': 'Unknown Location', 'City': 'Unknown City', 'URL': 'https://www.artforum.com/issue/2025/february-2025-1234725563/'}, {'Title': 'Untitled Review', 'Reviewer': 'Unknown Reviewer', 'Date': 'Unknown Date', 'Content': 'Inaccessible Content', 'Artwork': 'Unknown Artwork', 'Location': 'Unknown Location', 'City': 'Unknown City', 'URL': 'https://www.artforum.com/issue/2025/february-2025-1234725563/'}, {'Title': 'Untitled Review', 'Reviewer': 'Unknown Reviewer', 'Date': 'Unknown Date', 'Content': 'Inaccessible Content', 'Artwork': 'Unknown Artwork', 'Location': 'Unknown Location', 'City': 'Unknown City', 'URL': 'https://www.artforum.com/issue/2025/february-2025-1234725563/'}, {'Title': 'Untitled Review', 'Reviewer': 'Unknown Reviewer', 'Date': 'Unknown Date', 'Content': 'Inaccessible Content', 'Artwork': 'Unknown Artwork', 'Location': 'Unknown Location', 'City': 'Unknown City', 'URL': 'https://www.artforum.com/issue/2025/february-2025-1234725563/'}, {'Title': 'Untitled Review', 'Reviewer': 'Unknown Reviewer', 'Date': 'Unknown Date', 'Content': 'Inaccessible Content', 'Artwork': 'Unknown Artwork', 'Location': 'Unknown Location', 'City': 'Unknown City', 'URL': 'https://www.artforum.com/issue/2025/february-2025-1234725563/'}, {'Title': 'Untitled Review', 'Reviewer': 'Unknown Reviewer', 'Date': 'Unknown Date', 'Content': 'Inaccessible Content', 'Artwork': 'Unknown Artwork', 'Location': 'Unknown Location', 'City': 'Unknown City', 'URL': 'https://www.artforum.com/issue/2025/february-2025-1234725563/'}, {'Title': 'Untitled Review', 'Reviewer': 'Unknown Reviewer', 'Date': 'Unknown Date', 'Content': 'Inaccessible Content', 'Artwork': 'Unknown Artwork', 'Location': 'Unknown Location', 'City': 'Unknown City', 'URL': 'https://www.artforum.com/issue/2025/february-2025-1234725563/'}, {'Title': 'Untitled Review', 'Reviewer': 'Unknown Reviewer', 'Date': 'Unknown Date', 'Content': 'Inaccessible Content', 'Artwork': 'Unknown Artwork', 'Location': 'Unknown Location', 'City': 'Unknown City', 'URL': 'https://www.artforum.com/issue/2025/february-2025-1234725563/'}]\n"
     ]
    },
    {
     "data": {
      "application/vnd.microsoft.datawrangler.viewer.v0+json": {
       "columns": [
        {
         "name": "index",
         "rawType": "int64",
         "type": "integer"
        },
        {
         "name": "Title",
         "rawType": "object",
         "type": "string"
        },
        {
         "name": "Reviewer",
         "rawType": "object",
         "type": "string"
        },
        {
         "name": "Date",
         "rawType": "object",
         "type": "string"
        },
        {
         "name": "Content",
         "rawType": "object",
         "type": "string"
        },
        {
         "name": "Artwork",
         "rawType": "object",
         "type": "string"
        },
        {
         "name": "Location",
         "rawType": "object",
         "type": "string"
        },
        {
         "name": "City",
         "rawType": "object",
         "type": "string"
        },
        {
         "name": "URL",
         "rawType": "object",
         "type": "string"
        }
       ],
       "conversionMethod": "pd.DataFrame",
       "ref": "9c2653bf-bb6a-4b07-93c2-45d2beed7f3d",
       "rows": [
        [
         "0",
         "Untitled Review",
         "Unknown Reviewer",
         "Unknown Date",
         "Inaccessible Content",
         "Unknown Artwork",
         "Unknown Location",
         "Unknown City",
         "https://www.artforum.com/issue/2025/february-2025-1234725563/"
        ],
        [
         "1",
         "Untitled Review",
         "Unknown Reviewer",
         "Unknown Date",
         "Inaccessible Content",
         "Unknown Artwork",
         "Unknown Location",
         "Unknown City",
         "https://www.artforum.com/issue/2025/february-2025-1234725563/"
        ],
        [
         "2",
         "Untitled Review",
         "Unknown Reviewer",
         "Unknown Date",
         "Inaccessible Content",
         "Unknown Artwork",
         "Unknown Location",
         "Unknown City",
         "https://www.artforum.com/issue/2025/february-2025-1234725563/"
        ],
        [
         "3",
         "Untitled Review",
         "Unknown Reviewer",
         "Unknown Date",
         "Inaccessible Content",
         "Unknown Artwork",
         "Unknown Location",
         "Unknown City",
         "https://www.artforum.com/issue/2025/february-2025-1234725563/"
        ],
        [
         "4",
         "Untitled Review",
         "Unknown Reviewer",
         "Unknown Date",
         "Inaccessible Content",
         "Unknown Artwork",
         "Unknown Location",
         "Unknown City",
         "https://www.artforum.com/issue/2025/february-2025-1234725563/"
        ],
        [
         "5",
         "Untitled Review",
         "Unknown Reviewer",
         "Unknown Date",
         "Inaccessible Content",
         "Unknown Artwork",
         "Unknown Location",
         "Unknown City",
         "https://www.artforum.com/issue/2025/february-2025-1234725563/"
        ],
        [
         "6",
         "Untitled Review",
         "Unknown Reviewer",
         "Unknown Date",
         "Inaccessible Content",
         "Unknown Artwork",
         "Unknown Location",
         "Unknown City",
         "https://www.artforum.com/issue/2025/february-2025-1234725563/"
        ],
        [
         "7",
         "Untitled Review",
         "Unknown Reviewer",
         "Unknown Date",
         "Inaccessible Content",
         "Unknown Artwork",
         "Unknown Location",
         "Unknown City",
         "https://www.artforum.com/issue/2025/february-2025-1234725563/"
        ],
        [
         "8",
         "Untitled Review",
         "Unknown Reviewer",
         "Unknown Date",
         "Inaccessible Content",
         "Unknown Artwork",
         "Unknown Location",
         "Unknown City",
         "https://www.artforum.com/issue/2025/february-2025-1234725563/"
        ],
        [
         "9",
         "Untitled Review",
         "Unknown Reviewer",
         "Unknown Date",
         "Inaccessible Content",
         "Unknown Artwork",
         "Unknown Location",
         "Unknown City",
         "https://www.artforum.com/issue/2025/february-2025-1234725563/"
        ]
       ],
       "shape": {
        "columns": 8,
        "rows": 10
       }
      },
      "text/html": [
       "<div>\n",
       "<style scoped>\n",
       "    .dataframe tbody tr th:only-of-type {\n",
       "        vertical-align: middle;\n",
       "    }\n",
       "\n",
       "    .dataframe tbody tr th {\n",
       "        vertical-align: top;\n",
       "    }\n",
       "\n",
       "    .dataframe thead th {\n",
       "        text-align: right;\n",
       "    }\n",
       "</style>\n",
       "<table border=\"1\" class=\"dataframe\">\n",
       "  <thead>\n",
       "    <tr style=\"text-align: right;\">\n",
       "      <th></th>\n",
       "      <th>Title</th>\n",
       "      <th>Reviewer</th>\n",
       "      <th>Date</th>\n",
       "      <th>Content</th>\n",
       "      <th>Artwork</th>\n",
       "      <th>Location</th>\n",
       "      <th>City</th>\n",
       "      <th>URL</th>\n",
       "    </tr>\n",
       "  </thead>\n",
       "  <tbody>\n",
       "    <tr>\n",
       "      <th>0</th>\n",
       "      <td>Untitled Review</td>\n",
       "      <td>Unknown Reviewer</td>\n",
       "      <td>Unknown Date</td>\n",
       "      <td>Inaccessible Content</td>\n",
       "      <td>Unknown Artwork</td>\n",
       "      <td>Unknown Location</td>\n",
       "      <td>Unknown City</td>\n",
       "      <td>https://www.artforum.com/issue/2025/february-2...</td>\n",
       "    </tr>\n",
       "    <tr>\n",
       "      <th>1</th>\n",
       "      <td>Untitled Review</td>\n",
       "      <td>Unknown Reviewer</td>\n",
       "      <td>Unknown Date</td>\n",
       "      <td>Inaccessible Content</td>\n",
       "      <td>Unknown Artwork</td>\n",
       "      <td>Unknown Location</td>\n",
       "      <td>Unknown City</td>\n",
       "      <td>https://www.artforum.com/issue/2025/february-2...</td>\n",
       "    </tr>\n",
       "    <tr>\n",
       "      <th>2</th>\n",
       "      <td>Untitled Review</td>\n",
       "      <td>Unknown Reviewer</td>\n",
       "      <td>Unknown Date</td>\n",
       "      <td>Inaccessible Content</td>\n",
       "      <td>Unknown Artwork</td>\n",
       "      <td>Unknown Location</td>\n",
       "      <td>Unknown City</td>\n",
       "      <td>https://www.artforum.com/issue/2025/february-2...</td>\n",
       "    </tr>\n",
       "    <tr>\n",
       "      <th>3</th>\n",
       "      <td>Untitled Review</td>\n",
       "      <td>Unknown Reviewer</td>\n",
       "      <td>Unknown Date</td>\n",
       "      <td>Inaccessible Content</td>\n",
       "      <td>Unknown Artwork</td>\n",
       "      <td>Unknown Location</td>\n",
       "      <td>Unknown City</td>\n",
       "      <td>https://www.artforum.com/issue/2025/february-2...</td>\n",
       "    </tr>\n",
       "    <tr>\n",
       "      <th>4</th>\n",
       "      <td>Untitled Review</td>\n",
       "      <td>Unknown Reviewer</td>\n",
       "      <td>Unknown Date</td>\n",
       "      <td>Inaccessible Content</td>\n",
       "      <td>Unknown Artwork</td>\n",
       "      <td>Unknown Location</td>\n",
       "      <td>Unknown City</td>\n",
       "      <td>https://www.artforum.com/issue/2025/february-2...</td>\n",
       "    </tr>\n",
       "    <tr>\n",
       "      <th>5</th>\n",
       "      <td>Untitled Review</td>\n",
       "      <td>Unknown Reviewer</td>\n",
       "      <td>Unknown Date</td>\n",
       "      <td>Inaccessible Content</td>\n",
       "      <td>Unknown Artwork</td>\n",
       "      <td>Unknown Location</td>\n",
       "      <td>Unknown City</td>\n",
       "      <td>https://www.artforum.com/issue/2025/february-2...</td>\n",
       "    </tr>\n",
       "    <tr>\n",
       "      <th>6</th>\n",
       "      <td>Untitled Review</td>\n",
       "      <td>Unknown Reviewer</td>\n",
       "      <td>Unknown Date</td>\n",
       "      <td>Inaccessible Content</td>\n",
       "      <td>Unknown Artwork</td>\n",
       "      <td>Unknown Location</td>\n",
       "      <td>Unknown City</td>\n",
       "      <td>https://www.artforum.com/issue/2025/february-2...</td>\n",
       "    </tr>\n",
       "    <tr>\n",
       "      <th>7</th>\n",
       "      <td>Untitled Review</td>\n",
       "      <td>Unknown Reviewer</td>\n",
       "      <td>Unknown Date</td>\n",
       "      <td>Inaccessible Content</td>\n",
       "      <td>Unknown Artwork</td>\n",
       "      <td>Unknown Location</td>\n",
       "      <td>Unknown City</td>\n",
       "      <td>https://www.artforum.com/issue/2025/february-2...</td>\n",
       "    </tr>\n",
       "    <tr>\n",
       "      <th>8</th>\n",
       "      <td>Untitled Review</td>\n",
       "      <td>Unknown Reviewer</td>\n",
       "      <td>Unknown Date</td>\n",
       "      <td>Inaccessible Content</td>\n",
       "      <td>Unknown Artwork</td>\n",
       "      <td>Unknown Location</td>\n",
       "      <td>Unknown City</td>\n",
       "      <td>https://www.artforum.com/issue/2025/february-2...</td>\n",
       "    </tr>\n",
       "    <tr>\n",
       "      <th>9</th>\n",
       "      <td>Untitled Review</td>\n",
       "      <td>Unknown Reviewer</td>\n",
       "      <td>Unknown Date</td>\n",
       "      <td>Inaccessible Content</td>\n",
       "      <td>Unknown Artwork</td>\n",
       "      <td>Unknown Location</td>\n",
       "      <td>Unknown City</td>\n",
       "      <td>https://www.artforum.com/issue/2025/february-2...</td>\n",
       "    </tr>\n",
       "  </tbody>\n",
       "</table>\n",
       "</div>"
      ],
      "text/plain": [
       "             Title          Reviewer          Date               Content  \\\n",
       "0  Untitled Review  Unknown Reviewer  Unknown Date  Inaccessible Content   \n",
       "1  Untitled Review  Unknown Reviewer  Unknown Date  Inaccessible Content   \n",
       "2  Untitled Review  Unknown Reviewer  Unknown Date  Inaccessible Content   \n",
       "3  Untitled Review  Unknown Reviewer  Unknown Date  Inaccessible Content   \n",
       "4  Untitled Review  Unknown Reviewer  Unknown Date  Inaccessible Content   \n",
       "5  Untitled Review  Unknown Reviewer  Unknown Date  Inaccessible Content   \n",
       "6  Untitled Review  Unknown Reviewer  Unknown Date  Inaccessible Content   \n",
       "7  Untitled Review  Unknown Reviewer  Unknown Date  Inaccessible Content   \n",
       "8  Untitled Review  Unknown Reviewer  Unknown Date  Inaccessible Content   \n",
       "9  Untitled Review  Unknown Reviewer  Unknown Date  Inaccessible Content   \n",
       "\n",
       "           Artwork          Location          City  \\\n",
       "0  Unknown Artwork  Unknown Location  Unknown City   \n",
       "1  Unknown Artwork  Unknown Location  Unknown City   \n",
       "2  Unknown Artwork  Unknown Location  Unknown City   \n",
       "3  Unknown Artwork  Unknown Location  Unknown City   \n",
       "4  Unknown Artwork  Unknown Location  Unknown City   \n",
       "5  Unknown Artwork  Unknown Location  Unknown City   \n",
       "6  Unknown Artwork  Unknown Location  Unknown City   \n",
       "7  Unknown Artwork  Unknown Location  Unknown City   \n",
       "8  Unknown Artwork  Unknown Location  Unknown City   \n",
       "9  Unknown Artwork  Unknown Location  Unknown City   \n",
       "\n",
       "                                                 URL  \n",
       "0  https://www.artforum.com/issue/2025/february-2...  \n",
       "1  https://www.artforum.com/issue/2025/february-2...  \n",
       "2  https://www.artforum.com/issue/2025/february-2...  \n",
       "3  https://www.artforum.com/issue/2025/february-2...  \n",
       "4  https://www.artforum.com/issue/2025/february-2...  \n",
       "5  https://www.artforum.com/issue/2025/february-2...  \n",
       "6  https://www.artforum.com/issue/2025/february-2...  \n",
       "7  https://www.artforum.com/issue/2025/february-2...  \n",
       "8  https://www.artforum.com/issue/2025/february-2...  \n",
       "9  https://www.artforum.com/issue/2025/february-2...  "
      ]
     },
     "execution_count": 3,
     "metadata": {},
     "output_type": "execute_result"
    }
   ],
   "source": [
    "ArtForum.scrape()\n",
    "ArtForum.data"
   ]
  }
 ],
 "metadata": {
  "kernelspec": {
   "display_name": "bonheur",
   "language": "python",
   "name": "python3"
  },
  "language_info": {
   "codemirror_mode": {
    "name": "ipython",
    "version": 3
   },
   "file_extension": ".py",
   "mimetype": "text/x-python",
   "name": "python",
   "nbconvert_exporter": "python",
   "pygments_lexer": "ipython3",
   "version": "3.13.2"
  }
 },
 "nbformat": 4,
 "nbformat_minor": 2
}
